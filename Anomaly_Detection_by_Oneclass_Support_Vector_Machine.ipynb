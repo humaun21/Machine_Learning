{
 "cells": [
  {
   "cell_type": "code",
   "execution_count": 33,
   "metadata": {},
   "outputs": [],
   "source": [
    "#Import libraries\n",
    "import nltk\n",
    "import sklearn\n",
    "import numpy as np\n",
    "import pandas as pd\n",
    "from sklearn import svm\n",
    "from sklearn import metrics\n",
    "import matplotlib.pyplot as plt\n",
    "from platform import python_version\n",
    "from mlxtend.evaluate import confusion_matrix \n",
    "from mlxtend.plotting import plot_confusion_matrix\n",
    "from imblearn.under_sampling import RandomUnderSampler"
   ]
  },
  {
   "cell_type": "code",
   "execution_count": 29,
   "metadata": {},
   "outputs": [
    {
     "name": "stdout",
     "output_type": "stream",
     "text": [
      "The python version is 3.6.5\n",
      "The nltk version is 3.3.\n",
      "The scikit-learn version is 0.20.1.\n",
      "The pandas version is 0.23.0.\n",
      "The numpy version is 1.16.2.\n"
     ]
    }
   ],
   "source": [
    "#Check Version of different libaries\n",
    "print('The python version is {}'.format(python_version()))\n",
    "print('The nltk version is {}.'.format(nltk.__version__))\n",
    "print('The scikit-learn version is {}.'.format(sklearn.__version__))\n",
    "print('The pandas version is {}.'.format(pd.__version__))\n",
    "print('The numpy version is {}.'.format(np.__version__))\n"
   ]
  },
  {
   "cell_type": "code",
   "execution_count": 75,
   "metadata": {},
   "outputs": [],
   "source": [
    "# Import dataset\n",
    "df = pd.read_csv('D:/DataSet/machine_data.csv')\n",
    "df = df[df.Machine==0]"
   ]
  },
  {
   "cell_type": "code",
   "execution_count": 76,
   "metadata": {},
   "outputs": [
    {
     "data": {
      "text/html": [
       "<div>\n",
       "<style scoped>\n",
       "    .dataframe tbody tr th:only-of-type {\n",
       "        vertical-align: middle;\n",
       "    }\n",
       "\n",
       "    .dataframe tbody tr th {\n",
       "        vertical-align: top;\n",
       "    }\n",
       "\n",
       "    .dataframe thead th {\n",
       "        text-align: right;\n",
       "    }\n",
       "</style>\n",
       "<table border=\"1\" class=\"dataframe\">\n",
       "  <thead>\n",
       "    <tr style=\"text-align: right;\">\n",
       "      <th></th>\n",
       "      <th>Machine</th>\n",
       "      <th>Date</th>\n",
       "      <th>Time</th>\n",
       "      <th>Cycle</th>\n",
       "      <th>Ob1</th>\n",
       "      <th>Ob2</th>\n",
       "      <th>Ob5</th>\n",
       "      <th>Ob7</th>\n",
       "      <th>Ob8</th>\n",
       "      <th>Ob9</th>\n",
       "      <th>...</th>\n",
       "      <th>Ob100</th>\n",
       "      <th>Ob101</th>\n",
       "      <th>Ob102</th>\n",
       "      <th>Ob103</th>\n",
       "      <th>Ob104</th>\n",
       "      <th>Ob105</th>\n",
       "      <th>Ob106</th>\n",
       "      <th>Ob107</th>\n",
       "      <th>Ob108</th>\n",
       "      <th>Class</th>\n",
       "    </tr>\n",
       "  </thead>\n",
       "  <tbody>\n",
       "    <tr>\n",
       "      <th>0</th>\n",
       "      <td>0</td>\n",
       "      <td>20170101</td>\n",
       "      <td>3601</td>\n",
       "      <td>13</td>\n",
       "      <td>4415.22</td>\n",
       "      <td>770.79</td>\n",
       "      <td>176.77</td>\n",
       "      <td>9.46</td>\n",
       "      <td>15.08</td>\n",
       "      <td>1.27</td>\n",
       "      <td>...</td>\n",
       "      <td>40.32</td>\n",
       "      <td>0.36</td>\n",
       "      <td>1.60</td>\n",
       "      <td>45.0</td>\n",
       "      <td>40.00</td>\n",
       "      <td>55.84</td>\n",
       "      <td>42.24</td>\n",
       "      <td>17.48</td>\n",
       "      <td>80.46</td>\n",
       "      <td>1</td>\n",
       "    </tr>\n",
       "    <tr>\n",
       "      <th>10</th>\n",
       "      <td>0</td>\n",
       "      <td>20170101</td>\n",
       "      <td>3602</td>\n",
       "      <td>19</td>\n",
       "      <td>3990.14</td>\n",
       "      <td>771.84</td>\n",
       "      <td>296.46</td>\n",
       "      <td>9.20</td>\n",
       "      <td>12.30</td>\n",
       "      <td>3.33</td>\n",
       "      <td>...</td>\n",
       "      <td>39.57</td>\n",
       "      <td>0.57</td>\n",
       "      <td>1.62</td>\n",
       "      <td>45.0</td>\n",
       "      <td>39.28</td>\n",
       "      <td>54.78</td>\n",
       "      <td>40.81</td>\n",
       "      <td>17.06</td>\n",
       "      <td>78.97</td>\n",
       "      <td>1</td>\n",
       "    </tr>\n",
       "    <tr>\n",
       "      <th>20</th>\n",
       "      <td>0</td>\n",
       "      <td>20170101</td>\n",
       "      <td>3603</td>\n",
       "      <td>25</td>\n",
       "      <td>4641.26</td>\n",
       "      <td>758.63</td>\n",
       "      <td>-0.28</td>\n",
       "      <td>8.16</td>\n",
       "      <td>9.12</td>\n",
       "      <td>3.57</td>\n",
       "      <td>...</td>\n",
       "      <td>40.36</td>\n",
       "      <td>0.59</td>\n",
       "      <td>1.58</td>\n",
       "      <td>45.0</td>\n",
       "      <td>38.32</td>\n",
       "      <td>55.34</td>\n",
       "      <td>42.49</td>\n",
       "      <td>10.30</td>\n",
       "      <td>79.71</td>\n",
       "      <td>1</td>\n",
       "    </tr>\n",
       "    <tr>\n",
       "      <th>30</th>\n",
       "      <td>0</td>\n",
       "      <td>20170101</td>\n",
       "      <td>3604</td>\n",
       "      <td>31</td>\n",
       "      <td>3800.49</td>\n",
       "      <td>603.15</td>\n",
       "      <td>296.67</td>\n",
       "      <td>8.60</td>\n",
       "      <td>8.43</td>\n",
       "      <td>3.53</td>\n",
       "      <td>...</td>\n",
       "      <td>40.13</td>\n",
       "      <td>0.58</td>\n",
       "      <td>1.58</td>\n",
       "      <td>45.0</td>\n",
       "      <td>41.39</td>\n",
       "      <td>55.54</td>\n",
       "      <td>42.28</td>\n",
       "      <td>9.18</td>\n",
       "      <td>81.82</td>\n",
       "      <td>1</td>\n",
       "    </tr>\n",
       "    <tr>\n",
       "      <th>40</th>\n",
       "      <td>0</td>\n",
       "      <td>20170101</td>\n",
       "      <td>3605</td>\n",
       "      <td>19</td>\n",
       "      <td>4445.38</td>\n",
       "      <td>552.20</td>\n",
       "      <td>39.38</td>\n",
       "      <td>9.55</td>\n",
       "      <td>9.36</td>\n",
       "      <td>3.50</td>\n",
       "      <td>...</td>\n",
       "      <td>41.56</td>\n",
       "      <td>0.58</td>\n",
       "      <td>1.47</td>\n",
       "      <td>45.0</td>\n",
       "      <td>40.92</td>\n",
       "      <td>54.79</td>\n",
       "      <td>40.45</td>\n",
       "      <td>9.34</td>\n",
       "      <td>78.20</td>\n",
       "      <td>1</td>\n",
       "    </tr>\n",
       "  </tbody>\n",
       "</table>\n",
       "<p>5 rows × 55 columns</p>\n",
       "</div>"
      ],
      "text/plain": [
       "    Machine      Date  Time  Cycle      Ob1     Ob2     Ob5   Ob7    Ob8  \\\n",
       "0         0  20170101  3601     13  4415.22  770.79  176.77  9.46  15.08   \n",
       "10        0  20170101  3602     19  3990.14  771.84  296.46  9.20  12.30   \n",
       "20        0  20170101  3603     25  4641.26  758.63   -0.28  8.16   9.12   \n",
       "30        0  20170101  3604     31  3800.49  603.15  296.67  8.60   8.43   \n",
       "40        0  20170101  3605     19  4445.38  552.20   39.38  9.55   9.36   \n",
       "\n",
       "     Ob9  ...    Ob100  Ob101  Ob102  Ob103  Ob104  Ob105  Ob106  Ob107  \\\n",
       "0   1.27  ...    40.32   0.36   1.60   45.0  40.00  55.84  42.24  17.48   \n",
       "10  3.33  ...    39.57   0.57   1.62   45.0  39.28  54.78  40.81  17.06   \n",
       "20  3.57  ...    40.36   0.59   1.58   45.0  38.32  55.34  42.49  10.30   \n",
       "30  3.53  ...    40.13   0.58   1.58   45.0  41.39  55.54  42.28   9.18   \n",
       "40  3.50  ...    41.56   0.58   1.47   45.0  40.92  54.79  40.45   9.34   \n",
       "\n",
       "    Ob108  Class  \n",
       "0   80.46      1  \n",
       "10  78.97      1  \n",
       "20  79.71      1  \n",
       "30  81.82      1  \n",
       "40  78.20      1  \n",
       "\n",
       "[5 rows x 55 columns]"
      ]
     },
     "execution_count": 76,
     "metadata": {},
     "output_type": "execute_result"
    }
   ],
   "source": [
    "#Visualizing first `5` rows\n",
    "df.head()"
   ]
  },
  {
   "cell_type": "code",
   "execution_count": 103,
   "metadata": {},
   "outputs": [],
   "source": [
    "# Select normal and anomaly data as well as class\n",
    "normal_data=df[df.Class==0].iloc[:, 3: df.shape[1]-1].values\n",
    "anomaly_data=df[df.Class==1].iloc[:, 3: df.shape[1]-1].values\n",
    "normal_class = df.Class[df.Class==0]\n",
    "anomaly_class = df.Class[df.Class==1]"
   ]
  },
  {
   "cell_type": "code",
   "execution_count": 78,
   "metadata": {},
   "outputs": [],
   "source": [
    "#Split train test data(Normal)\n",
    "from sklearn.model_selection import train_test_split  \n",
    "X_train, X_test, y_train, y_test = train_test_split(normal_data, normal_class, test_size = 0.3, random_state = 42)  "
   ]
  },
  {
   "cell_type": "code",
   "execution_count": 79,
   "metadata": {},
   "outputs": [],
   "source": [
    "# Concat anomaly and normal data\n",
    "y_train=np.concatenate([y_train, anomaly_class])\n",
    "X_test=np.vstack((X_test, anomaly_data))\n",
    "y_test=np.concatenate([y_test, anomaly_class])"
   ]
  },
  {
   "cell_type": "code",
   "execution_count": 80,
   "metadata": {},
   "outputs": [
    {
     "name": "stdout",
     "output_type": "stream",
     "text": [
      "Shape of training data: (3153, 51)\n",
      "Shape of testing data: (1847, 51)\n"
     ]
    }
   ],
   "source": [
    "print('Shape of training data:', X_train.shape)\n",
    "print('Shape of testing data:', X_test.shape)"
   ]
  },
  {
   "cell_type": "code",
   "execution_count": 81,
   "metadata": {},
   "outputs": [],
   "source": [
    "# As I would like to use accuracy as a metric. So I will under sample test data\n",
    "# Apply the random under-sampling for test data\n",
    "from imblearn.under_sampling import RandomUnderSampler\n",
    "rus = RandomUnderSampler(return_indices=True, random_state = 42)\n",
    "X_test, y_test, idx_resampled = rus.fit_sample(X_test, y_test)"
   ]
  },
  {
   "cell_type": "code",
   "execution_count": 82,
   "metadata": {},
   "outputs": [
    {
     "data": {
      "text/plain": [
       "{0: 495, 1: 495}"
      ]
     },
     "execution_count": 82,
     "metadata": {},
     "output_type": "execute_result"
    }
   ],
   "source": [
    "#Check number of noraml and anomaly in the test data after random under sampling\n",
    "unique, counts = np.unique(y_test, return_counts=True)\n",
    "dict(zip(unique, counts))"
   ]
  },
  {
   "cell_type": "code",
   "execution_count": 83,
   "metadata": {},
   "outputs": [],
   "source": [
    "#Normalize the train dataset\n",
    "from sklearn import preprocessing\n",
    "min_max_scaler = preprocessing.MinMaxScaler()\n",
    "X_train = min_max_scaler.fit_transform(X_train)\n",
    "\n",
    "#Normalize the test dataset\n",
    "X_test = min_max_scaler.transform(X_test)"
   ]
  },
  {
   "cell_type": "code",
   "execution_count": 102,
   "metadata": {},
   "outputs": [
    {
     "name": "stdout",
     "output_type": "stream",
     "text": [
      "Accuracy for different parameter\n",
      "{'gamma': 1, 'kernel': 'linear', 'accuracy': 55.35}\n",
      "{'gamma': 0.1, 'kernel': 'rbf', 'accuracy': 73.43}\n",
      "{'gamma': 0.01, 'kernel': 'rbf', 'accuracy': 73.84}\n",
      "{'gamma': 0.001, 'kernel': 'rbf', 'accuracy': 73.74}\n",
      "{'gamma': 1.0, 'kernel': 'rbf', 'accuracy': 71.41}\n",
      "{'gamma': 5.0, 'kernel': 'rbf', 'accuracy': 54.75}\n",
      "{'gamma': 10.0, 'kernel': 'rbf', 'accuracy': 50.0}\n",
      "{'degree': 1, 'gamma': 0.1, 'kernel': 'poly', 'accuracy': 55.35}\n",
      "{'degree': 1, 'gamma': 0.01, 'kernel': 'poly', 'accuracy': 55.35}\n",
      "{'degree': 1, 'gamma': 0.001, 'kernel': 'poly', 'accuracy': 55.35}\n",
      "{'degree': 1, 'gamma': 1.0, 'kernel': 'poly', 'accuracy': 55.35}\n",
      "{'degree': 2, 'gamma': 0.1, 'kernel': 'poly', 'accuracy': 54.95}\n",
      "{'degree': 2, 'gamma': 0.01, 'kernel': 'poly', 'accuracy': 54.95}\n",
      "{'degree': 2, 'gamma': 0.001, 'kernel': 'poly', 'accuracy': 54.44}\n",
      "{'degree': 2, 'gamma': 1.0, 'kernel': 'poly', 'accuracy': 54.95}\n",
      "{'degree': 3, 'gamma': 0.1, 'kernel': 'poly', 'accuracy': 54.04}\n",
      "{'degree': 3, 'gamma': 0.01, 'kernel': 'poly', 'accuracy': 54.04}\n",
      "{'degree': 3, 'gamma': 0.001, 'kernel': 'poly', 'accuracy': 51.52}\n",
      "{'degree': 3, 'gamma': 1.0, 'kernel': 'poly', 'accuracy': 54.04}\n",
      "{'degree': 4, 'gamma': 0.1, 'kernel': 'poly', 'accuracy': 53.54}\n",
      "{'degree': 4, 'gamma': 0.01, 'kernel': 'poly', 'accuracy': 53.33}\n",
      "{'degree': 4, 'gamma': 0.001, 'kernel': 'poly', 'accuracy': 51.82}\n",
      "{'degree': 4, 'gamma': 1.0, 'kernel': 'poly', 'accuracy': 53.54}\n",
      "{'degree': 5, 'gamma': 0.1, 'kernel': 'poly', 'accuracy': 52.93}\n",
      "{'degree': 5, 'gamma': 0.01, 'kernel': 'poly', 'accuracy': 52.83}\n",
      "{'degree': 5, 'gamma': 0.001, 'kernel': 'poly', 'accuracy': 51.72}\n",
      "{'degree': 5, 'gamma': 1.0, 'kernel': 'poly', 'accuracy': 52.93}\n",
      "{'degree': 6, 'gamma': 0.1, 'kernel': 'poly', 'accuracy': 52.22}\n",
      "{'degree': 6, 'gamma': 0.01, 'kernel': 'poly', 'accuracy': 50.51}\n",
      "{'degree': 6, 'gamma': 0.001, 'kernel': 'poly', 'accuracy': 51.72}\n",
      "{'degree': 6, 'gamma': 1.0, 'kernel': 'poly', 'accuracy': 52.22}\n",
      "{'degree': 7, 'gamma': 0.1, 'kernel': 'poly', 'accuracy': 51.31}\n",
      "{'degree': 7, 'gamma': 0.01, 'kernel': 'poly', 'accuracy': 51.82}\n",
      "{'degree': 7, 'gamma': 0.001, 'kernel': 'poly', 'accuracy': 51.82}\n",
      "{'degree': 7, 'gamma': 1.0, 'kernel': 'poly', 'accuracy': 51.31}\n",
      "{'degree': 8, 'gamma': 0.1, 'kernel': 'poly', 'accuracy': 51.01}\n",
      "{'degree': 8, 'gamma': 0.01, 'kernel': 'poly', 'accuracy': 51.82}\n",
      "{'degree': 8, 'gamma': 0.001, 'kernel': 'poly', 'accuracy': 51.82}\n",
      "{'degree': 8, 'gamma': 1.0, 'kernel': 'poly', 'accuracy': 51.01}\n",
      "{'gamma': 0.1, 'kernel': 'sigmoid', 'accuracy': 56.36}\n",
      "{'gamma': 0.01, 'kernel': 'sigmoid', 'accuracy': 55.35}\n",
      "{'gamma': 0.001, 'kernel': 'sigmoid', 'accuracy': 55.35}\n",
      "{'gamma': 1.0, 'kernel': 'sigmoid', 'accuracy': 50.0}\n",
      "{'gamma': 5.0, 'kernel': 'sigmoid', 'accuracy': 50.0}\n"
     ]
    }
   ],
   "source": [
    "# Define classifier\n",
    "clf = svm.OneClassSVM()\n",
    "from sklearn.model_selection import ParameterGrid\n",
    "# Specify parameter grid\n",
    "grid = [{'kernel': ['linear'],'gamma': [1]}, \n",
    "    {'kernel': ['rbf'], 'gamma': [1e-1, 1e-2, 1e-3,  1e0, 5e0, 10e0]},\n",
    "    {'kernel': ['poly'], 'gamma': [1e-1, 1e-2, 1e-3,  1e0], 'degree': [1,2,3,4,5,6,7,8]},\n",
    "    {'kernel': ['sigmoid'],'gamma': [1e-1, 1e-2, 1e-3,  1e0, 5e0]}]\n",
    "pram_dict = []\n",
    "print('Accuracy for different parameter')\n",
    "for z in ParameterGrid(grid):\n",
    "    from sklearn import svm\n",
    "    clf = svm.OneClassSVM()\n",
    "    clf.set_params(**z)\n",
    "    clf.fit(X_train)\n",
    "    y_pred = clf.predict(X_test)\n",
    "    #replace 1 as 0 and -1 as 1 according our data\n",
    "    y_pred[y_pred==1]=0\n",
    "    y_pred[y_pred==-1]=1\n",
    "    #Calculate accuracy\n",
    "    z['accuracy']= round((100*metrics.accuracy_score(y_test, y_pred)), 2)\n",
    "    pram_dict.append(z)\n",
    "    print(z)"
   ]
  },
  {
   "cell_type": "code",
   "execution_count": 85,
   "metadata": {},
   "outputs": [
    {
     "name": "stdout",
     "output_type": "stream",
     "text": [
      "Best Parameter:  {'gamma': 0.01, 'kernel': 'rbf', 'accuracy': 73.84}\n"
     ]
    }
   ],
   "source": [
    "#print(pram_dict)\n",
    "pram_dict = sorted(pram_dict, key = lambda i: float(i['accuracy']), reverse=True) \n",
    "pram_dict = pram_dict[0]\n",
    "print(\"Best Parameter: \", pram_dict)"
   ]
  },
  {
   "cell_type": "code",
   "execution_count": 101,
   "metadata": {},
   "outputs": [
    {
     "name": "stdout",
     "output_type": "stream",
     "text": [
      "OneClassSVM(cache_size=200, coef0=0.0, degree=3, gamma=0.01, kernel='rbf',\n",
      "      max_iter=-1, nu=0.5, random_state=None, shrinking=True, tol=0.001,\n",
      "      verbose=False)\n"
     ]
    }
   ],
   "source": [
    "#Optimised One class SVM with best parameter\n",
    "if (pram_dict.get('kernel') == 'linear'):\n",
    "        clf = svm.OneClassSVM(kernel = pram_dict.get('kernel'))  \n",
    "        clf.fit(X_train)\n",
    "elif (pram_dict.get('kernel') == 'rbf'):\n",
    "        clf = svm.OneClassSVM(kernel = pram_dict.get('kernel'), gamma = pram_dict.get('gamma'))\n",
    "        clf.fit(X_train)\n",
    "elif(pram_dict.get('kernel') == 'poly'):\n",
    "        clf = svm.OneClassSVM(kernel = pram_dict.get('kernel'),\n",
    "                              gamma = pram_dict.get('gamma'), degree = pram_dict.get('degree'))  \n",
    "        clf.fit(X_train)\n",
    "elif(pram_dict.get('kernel') == 'sigmoid'):\n",
    "        clf = svm.OneClassSVM(kernel = pram_dict.get('kernel'), gamma = pram_dict.get('gamma'))  \n",
    "        clf.fit(X_train)\n",
    "else:\n",
    "\tprint(\"No Kernel Found\")\n",
    "print(clf)"
   ]
  },
  {
   "cell_type": "code",
   "execution_count": 98,
   "metadata": {},
   "outputs": [],
   "source": [
    "#Get prediction from model\n",
    "y_pred=clf.predict(X_test)"
   ]
  },
  {
   "cell_type": "code",
   "execution_count": 100,
   "metadata": {},
   "outputs": [],
   "source": [
    "#Replace 1 (normal)  as 0(normal) and -1(anomaly) as 1(anomaly) according to our  own class y_test(0 as nomal and 1 as anomaly)\n",
    "y_pred[y_pred==1]=0\n",
    "y_pred[y_pred==-1]=1"
   ]
  },
  {
   "cell_type": "code",
   "execution_count": 90,
   "metadata": {},
   "outputs": [
    {
     "name": "stdout",
     "output_type": "stream",
     "text": [
      "Accuracy 73.84\n"
     ]
    }
   ],
   "source": [
    "#Calculate accuracy\n",
    "from sklearn import metrics\n",
    "print(\"Accuracy %0.2f\" % (100*metrics.accuracy_score(y_test, y_pred)))"
   ]
  },
  {
   "cell_type": "code",
   "execution_count": 91,
   "metadata": {},
   "outputs": [
    {
     "data": {
      "image/png": "[encoded data removed]",
      "text/plain": [
       "<matplotlib.figure.Figure at 0xb3ef122470>"
      ]
     },
     "metadata": {},
     "output_type": "display_data"
    }
   ],
   "source": [
    "#Draw a confusion matrix\n",
    "cm = confusion_matrix(y_test, y_pred)\n",
    "plt.clf()\n",
    "plt.imshow(cm, interpolation='nearest', cmap=plt.cm.Wistia)\n",
    "classNames = ['Normal','Anomaly']\n",
    "plt.title('One Class SVM Confusion Matrix - Test Data')\n",
    "plt.ylabel('True label')\n",
    "plt.xlabel('Predicted label')\n",
    "tick_marks = np.arange(len(classNames))\n",
    "plt.xticks(tick_marks, classNames, rotation=45)\n",
    "plt.yticks(tick_marks, classNames)\n",
    "s = [['TN','FP'], ['FN', 'TP']]\n",
    " \n",
    "for i in range(2):\n",
    "    for j in range(2):\n",
    "        plt.text(j,i, str(s[i][j])+\" = \"+str(cm[i][j]))\n",
    "plt.show()"
   ]
  },
  {
   "cell_type": "code",
   "execution_count": 95,
   "metadata": {},
   "outputs": [
    {
     "name": "stdout",
     "output_type": "stream",
     "text": [
      "Detection Rate w.r.t anomaly class:  100.0\n",
      "False positives rate w.r.t anomaly class:  52.32\n"
     ]
    }
   ],
   "source": [
    "#Get True Positive, True Negative, False Positive and False Negative Individually\n",
    "TN = cm[0][0]\n",
    "FN = cm[1][0]\n",
    "TP = cm[1][1]\n",
    "FP = cm[0][1]\n",
    "#Calculate Detection Rate and False Alarm Rate\n",
    "print(\"Detection Rate w.r.t anomaly class: \", round((TP/(TP+FN)*100), 2))\n",
    "print(\"False positives rate w.r.t anomaly class: \", round((FP/(FP+TN))*100, 2))"
   ]
  },
  {
   "cell_type": "code",
   "execution_count": 96,
   "metadata": {},
   "outputs": [
    {
     "name": "stdout",
     "output_type": "stream",
     "text": [
      "              precision    recall  f1-score   support\n",
      "\n",
      "           0       1.00      0.48      0.65       495\n",
      "           1       0.66      1.00      0.79       495\n",
      "\n",
      "   micro avg       0.74      0.74      0.74       990\n",
      "   macro avg       0.83      0.74      0.72       990\n",
      "weighted avg       0.83      0.74      0.72       990\n",
      "\n"
     ]
    }
   ],
   "source": [
    "#Classification Report\n",
    "from sklearn.metrics import classification_report\n",
    "print(classification_report(y_test, y_pred))"
   ]
  },
  {
   "cell_type": "code",
   "execution_count": null,
   "metadata": {},
   "outputs": [],
   "source": []
  }
 ],
 "metadata": {
  "kernelspec": {
   "display_name": "Python 3",
   "language": "python",
   "name": "python3"
  },
  "language_info": {
   "codemirror_mode": {
    "name": "ipython",
    "version": 3
   },
   "file_extension": ".py",
   "mimetype": "text/x-python",
   "name": "python",
   "nbconvert_exporter": "python",
   "pygments_lexer": "ipython3",
   "version": "3.6.5"
  }
 },
 "nbformat": 4,
 "nbformat_minor": 2
}

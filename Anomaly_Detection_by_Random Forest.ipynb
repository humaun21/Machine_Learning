{
 "cells": [
  {
   "cell_type": "code",
   "execution_count": 1,
   "metadata": {},
   "outputs": [],
   "source": [
    "#Import libraries\n",
    "import nltk\n",
    "import sklearn\n",
    "import numpy as np\n",
    "import pandas as pd\n",
    "from sklearn import svm\n",
    "from sklearn import metrics\n",
    "from platform import python_version\n",
    "from mlxtend.evaluate import confusion_matrix \n",
    "from sklearn.model_selection import GridSearchCV\n",
    "from mlxtend.plotting import plot_confusion_matrix\n",
    "from sklearn.ensemble import RandomForestClassifier\n",
    "from imblearn.under_sampling import RandomUnderSampler\n",
    "%matplotlib inline"
   ]
  },
  {
   "cell_type": "code",
   "execution_count": 2,
   "metadata": {},
   "outputs": [
    {
     "name": "stdout",
     "output_type": "stream",
     "text": [
      "The python version is 3.6.5\n",
      "The nltk version is 3.3.\n",
      "The scikit-learn version is 0.20.1.\n",
      "The pandas version is 0.23.0.\n",
      "The numpy version is 1.16.2.\n"
     ]
    }
   ],
   "source": [
    "#Check Version of different libaries\n",
    "print('The python version is {}'.format(python_version()))\n",
    "print('The nltk version is {}.'.format(nltk.__version__))\n",
    "print('The scikit-learn version is {}.'.format(sklearn.__version__))\n",
    "print('The pandas version is {}.'.format(pd.__version__))\n",
    "print('The numpy version is {}.'.format(np.__version__))"
   ]
  },
  {
   "cell_type": "code",
   "execution_count": 3,
   "metadata": {},
   "outputs": [],
   "source": [
    "# Import dataset\n",
    "df = pd.read_csv('D:/DataSet/machine_data.csv')\n",
    "df = df[df.Machine==0]"
   ]
  },
  {
   "cell_type": "code",
   "execution_count": 4,
   "metadata": {},
   "outputs": [
    {
     "data": {
      "text/html": [
       "<div>\n",
       "<style scoped>\n",
       "    .dataframe tbody tr th:only-of-type {\n",
       "        vertical-align: middle;\n",
       "    }\n",
       "\n",
       "    .dataframe tbody tr th {\n",
       "        vertical-align: top;\n",
       "    }\n",
       "\n",
       "    .dataframe thead th {\n",
       "        text-align: right;\n",
       "    }\n",
       "</style>\n",
       "<table border=\"1\" class=\"dataframe\">\n",
       "  <thead>\n",
       "    <tr style=\"text-align: right;\">\n",
       "      <th></th>\n",
       "      <th>Machine</th>\n",
       "      <th>Date</th>\n",
       "      <th>Time</th>\n",
       "      <th>Cycle</th>\n",
       "      <th>Ob1</th>\n",
       "      <th>Ob2</th>\n",
       "      <th>Ob5</th>\n",
       "      <th>Ob7</th>\n",
       "      <th>Ob8</th>\n",
       "      <th>Ob9</th>\n",
       "      <th>...</th>\n",
       "      <th>Ob100</th>\n",
       "      <th>Ob101</th>\n",
       "      <th>Ob102</th>\n",
       "      <th>Ob103</th>\n",
       "      <th>Ob104</th>\n",
       "      <th>Ob105</th>\n",
       "      <th>Ob106</th>\n",
       "      <th>Ob107</th>\n",
       "      <th>Ob108</th>\n",
       "      <th>Class</th>\n",
       "    </tr>\n",
       "  </thead>\n",
       "  <tbody>\n",
       "    <tr>\n",
       "      <th>0</th>\n",
       "      <td>0</td>\n",
       "      <td>20170101</td>\n",
       "      <td>3601</td>\n",
       "      <td>13</td>\n",
       "      <td>4415.22</td>\n",
       "      <td>770.79</td>\n",
       "      <td>176.77</td>\n",
       "      <td>9.46</td>\n",
       "      <td>15.08</td>\n",
       "      <td>1.27</td>\n",
       "      <td>...</td>\n",
       "      <td>40.32</td>\n",
       "      <td>0.36</td>\n",
       "      <td>1.60</td>\n",
       "      <td>45.0</td>\n",
       "      <td>40.00</td>\n",
       "      <td>55.84</td>\n",
       "      <td>42.24</td>\n",
       "      <td>17.48</td>\n",
       "      <td>80.46</td>\n",
       "      <td>1</td>\n",
       "    </tr>\n",
       "    <tr>\n",
       "      <th>10</th>\n",
       "      <td>0</td>\n",
       "      <td>20170101</td>\n",
       "      <td>3602</td>\n",
       "      <td>19</td>\n",
       "      <td>3990.14</td>\n",
       "      <td>771.84</td>\n",
       "      <td>296.46</td>\n",
       "      <td>9.20</td>\n",
       "      <td>12.30</td>\n",
       "      <td>3.33</td>\n",
       "      <td>...</td>\n",
       "      <td>39.57</td>\n",
       "      <td>0.57</td>\n",
       "      <td>1.62</td>\n",
       "      <td>45.0</td>\n",
       "      <td>39.28</td>\n",
       "      <td>54.78</td>\n",
       "      <td>40.81</td>\n",
       "      <td>17.06</td>\n",
       "      <td>78.97</td>\n",
       "      <td>1</td>\n",
       "    </tr>\n",
       "    <tr>\n",
       "      <th>20</th>\n",
       "      <td>0</td>\n",
       "      <td>20170101</td>\n",
       "      <td>3603</td>\n",
       "      <td>25</td>\n",
       "      <td>4641.26</td>\n",
       "      <td>758.63</td>\n",
       "      <td>-0.28</td>\n",
       "      <td>8.16</td>\n",
       "      <td>9.12</td>\n",
       "      <td>3.57</td>\n",
       "      <td>...</td>\n",
       "      <td>40.36</td>\n",
       "      <td>0.59</td>\n",
       "      <td>1.58</td>\n",
       "      <td>45.0</td>\n",
       "      <td>38.32</td>\n",
       "      <td>55.34</td>\n",
       "      <td>42.49</td>\n",
       "      <td>10.30</td>\n",
       "      <td>79.71</td>\n",
       "      <td>1</td>\n",
       "    </tr>\n",
       "    <tr>\n",
       "      <th>30</th>\n",
       "      <td>0</td>\n",
       "      <td>20170101</td>\n",
       "      <td>3604</td>\n",
       "      <td>31</td>\n",
       "      <td>3800.49</td>\n",
       "      <td>603.15</td>\n",
       "      <td>296.67</td>\n",
       "      <td>8.60</td>\n",
       "      <td>8.43</td>\n",
       "      <td>3.53</td>\n",
       "      <td>...</td>\n",
       "      <td>40.13</td>\n",
       "      <td>0.58</td>\n",
       "      <td>1.58</td>\n",
       "      <td>45.0</td>\n",
       "      <td>41.39</td>\n",
       "      <td>55.54</td>\n",
       "      <td>42.28</td>\n",
       "      <td>9.18</td>\n",
       "      <td>81.82</td>\n",
       "      <td>1</td>\n",
       "    </tr>\n",
       "    <tr>\n",
       "      <th>40</th>\n",
       "      <td>0</td>\n",
       "      <td>20170101</td>\n",
       "      <td>3605</td>\n",
       "      <td>19</td>\n",
       "      <td>4445.38</td>\n",
       "      <td>552.20</td>\n",
       "      <td>39.38</td>\n",
       "      <td>9.55</td>\n",
       "      <td>9.36</td>\n",
       "      <td>3.50</td>\n",
       "      <td>...</td>\n",
       "      <td>41.56</td>\n",
       "      <td>0.58</td>\n",
       "      <td>1.47</td>\n",
       "      <td>45.0</td>\n",
       "      <td>40.92</td>\n",
       "      <td>54.79</td>\n",
       "      <td>40.45</td>\n",
       "      <td>9.34</td>\n",
       "      <td>78.20</td>\n",
       "      <td>1</td>\n",
       "    </tr>\n",
       "  </tbody>\n",
       "</table>\n",
       "<p>5 rows × 55 columns</p>\n",
       "</div>"
      ],
      "text/plain": [
       "    Machine      Date  Time  Cycle      Ob1     Ob2     Ob5   Ob7    Ob8  \\\n",
       "0         0  20170101  3601     13  4415.22  770.79  176.77  9.46  15.08   \n",
       "10        0  20170101  3602     19  3990.14  771.84  296.46  9.20  12.30   \n",
       "20        0  20170101  3603     25  4641.26  758.63   -0.28  8.16   9.12   \n",
       "30        0  20170101  3604     31  3800.49  603.15  296.67  8.60   8.43   \n",
       "40        0  20170101  3605     19  4445.38  552.20   39.38  9.55   9.36   \n",
       "\n",
       "     Ob9  ...    Ob100  Ob101  Ob102  Ob103  Ob104  Ob105  Ob106  Ob107  \\\n",
       "0   1.27  ...    40.32   0.36   1.60   45.0  40.00  55.84  42.24  17.48   \n",
       "10  3.33  ...    39.57   0.57   1.62   45.0  39.28  54.78  40.81  17.06   \n",
       "20  3.57  ...    40.36   0.59   1.58   45.0  38.32  55.34  42.49  10.30   \n",
       "30  3.53  ...    40.13   0.58   1.58   45.0  41.39  55.54  42.28   9.18   \n",
       "40  3.50  ...    41.56   0.58   1.47   45.0  40.92  54.79  40.45   9.34   \n",
       "\n",
       "    Ob108  Class  \n",
       "0   80.46      1  \n",
       "10  78.97      1  \n",
       "20  79.71      1  \n",
       "30  81.82      1  \n",
       "40  78.20      1  \n",
       "\n",
       "[5 rows x 55 columns]"
      ]
     },
     "execution_count": 4,
     "metadata": {},
     "output_type": "execute_result"
    }
   ],
   "source": [
    "#Visualizing first `5` rows\n",
    "df.head()"
   ]
  },
  {
   "cell_type": "code",
   "execution_count": 5,
   "metadata": {},
   "outputs": [],
   "source": [
    "# Select normal and anomaly data as well as class\n",
    "normal_data = df[df.Class == 0].iloc[:, 3: df.shape[1]-1].values\n",
    "anomaly_data =  df[df.Class == 1].iloc[:, 3: df.shape[1]-1].values\n",
    "normal_class = df.Class[df.Class == 0]\n",
    "anomaly_class = df.Class[df.Class == 1]"
   ]
  },
  {
   "cell_type": "code",
   "execution_count": 6,
   "metadata": {},
   "outputs": [],
   "source": [
    "#Split train(70%) test(30%) data(Normal)\n",
    "from sklearn.model_selection import train_test_split  \n",
    "X_train_n, X_test_n, y_train_n, y_test_n = train_test_split(normal_data, normal_class, test_size = 0.3, shuffle = False ) \n",
    "\n",
    "#Split train(70%) test(30%) data(Anomaly)\n",
    "from sklearn.model_selection import train_test_split  \n",
    "X_train_a, X_test_a, y_train_a, y_test_a = train_test_split(anomaly_data, anomaly_class, test_size = 0.3, shuffle = False)  "
   ]
  },
  {
   "cell_type": "code",
   "execution_count": 7,
   "metadata": {},
   "outputs": [],
   "source": [
    "#Concat 70% normal and 70% anomaly train data\n",
    "X_train=np.vstack((X_train_n, X_train_a))\n",
    "\n",
    "#Concat 70% normal and 70% anomaly train target data\n",
    "y_train=np.concatenate([y_train_n, y_train_a])\n",
    "\n",
    "#Concat 30% normal and 30% anomaly test data\n",
    "X_test=np.vstack((X_test_n, X_test_a))\n",
    "\n",
    "#Concat 30% normal and 30% anomaly test target data\n",
    "y_test=np.concatenate([y_test_n, y_test_a])"
   ]
  },
  {
   "cell_type": "code",
   "execution_count": 8,
   "metadata": {},
   "outputs": [],
   "source": [
    "# Apply random under sampling for testing dataset\n",
    "from imblearn.under_sampling import RandomUnderSampler\n",
    "rus = RandomUnderSampler(return_indices=True, random_state = 42)\n",
    "X_train, y_train, idx_resampled = rus.fit_sample(X_train, y_train)"
   ]
  },
  {
   "cell_type": "code",
   "execution_count": 9,
   "metadata": {},
   "outputs": [],
   "source": [
    "# Apply random under sampling for testing dataset\n",
    "from imblearn.under_sampling import RandomUnderSampler\n",
    "rus = RandomUnderSampler(return_indices=True, random_state = 42)\n",
    "X_test, y_test, idx_resampled = rus.fit_sample(X_test, y_test)"
   ]
  },
  {
   "cell_type": "code",
   "execution_count": 10,
   "metadata": {},
   "outputs": [],
   "source": [
    "#Normalize the dataset\n",
    "from sklearn import preprocessing\n",
    "min_max_scaler = preprocessing.MinMaxScaler()\n",
    "X_train = min_max_scaler.fit_transform(X_train)\n",
    "#Normalize test data\n",
    "X_test = min_max_scaler.transform(X_test)"
   ]
  },
  {
   "cell_type": "code",
   "execution_count": 11,
   "metadata": {},
   "outputs": [
    {
     "name": "stdout",
     "output_type": "stream",
     "text": [
      "{'max_depth': 1, 'min_samples_leaf': 1, 'n_estimators': 9}\n"
     ]
    }
   ],
   "source": [
    "# Use a grid over parameters of interest\n",
    "from sklearn.model_selection import GridSearchCV\n",
    "classifier = RandomForestClassifier(n_jobs = -1, max_features = 'sqrt') \n",
    "param_grid = { \n",
    "           \"n_estimators\" : [9, 18, 27, 36, 45, 54, 63],\n",
    "           \"max_depth\" : [1, 5, 10, 15, 20, 25, 30],\n",
    "           \"min_samples_leaf\" : [1, 2, 4, 6, 8, 10]}\n",
    "\n",
    "CV_rfc = GridSearchCV(estimator = classifier, param_grid = param_grid, cv = 10)\n",
    "CV_rfc.fit(X_train, y_train)\n",
    "best_param = CV_rfc.best_params_\n",
    "#Get best paramers\n",
    "print(CV_rfc.best_params_)"
   ]
  },
  {
   "cell_type": "code",
   "execution_count": 12,
   "metadata": {},
   "outputs": [
    {
     "data": {
      "text/plain": [
       "RandomForestClassifier(bootstrap=True, class_weight=None, criterion='gini',\n",
       "            max_depth=1, max_features='auto', max_leaf_nodes=None,\n",
       "            min_impurity_decrease=0.0, min_impurity_split=None,\n",
       "            min_samples_leaf=1, min_samples_split=2,\n",
       "            min_weight_fraction_leaf=0.0, n_estimators=9, n_jobs=None,\n",
       "            oob_score=False, random_state=42, verbose=0, warm_start=False)"
      ]
     },
     "execution_count": 12,
     "metadata": {},
     "output_type": "execute_result"
    }
   ],
   "source": [
    "#Train the classifier\n",
    "# Optimised with best parameter\n",
    "classifier = RandomForestClassifier(max_depth = best_param.get('max_depth'), min_samples_leaf=  best_param.get('min_samples_leaf'), n_estimators = best_param.get('n_estimators'), random_state = 42)\n",
    "classifier.fit(X_train, y_train)"
   ]
  },
  {
   "cell_type": "code",
   "execution_count": 13,
   "metadata": {},
   "outputs": [],
   "source": [
    "#Get prediction\n",
    "y_pred = classifier.predict(X_test)"
   ]
  },
  {
   "cell_type": "code",
   "execution_count": 14,
   "metadata": {},
   "outputs": [
    {
     "name": "stdout",
     "output_type": "stream",
     "text": [
      "Accuracy 74.83\n"
     ]
    }
   ],
   "source": [
    "#Calculate accuracy\n",
    "from sklearn import metrics\n",
    "print(\"Accuracy %0.2f\" % (100*metrics.accuracy_score(y_test, y_pred)))"
   ]
  },
  {
   "cell_type": "code",
   "execution_count": 18,
   "metadata": {
    "scrolled": true
   },
   "outputs": [
    {
     "data": {
      "image/png": "[encoded data removed]",
      "text/plain": [
       "<matplotlib.figure.Figure at 0x7697bfdc50>"
      ]
     },
     "metadata": {},
     "output_type": "display_data"
    }
   ],
   "source": [
    "#Draw a confusion matrix\n",
    "import matplotlib.pyplot as plt\n",
    "from mlxtend.evaluate import confusion_matrix \n",
    "from mlxtend.plotting import plot_confusion_matrix\n",
    "\n",
    "#Draw a confusion matrix\n",
    "cm = confusion_matrix(y_test, y_pred)\n",
    "plt.clf()\n",
    "plt.imshow(cm, interpolation='nearest', cmap=plt.cm.Wistia)\n",
    "classNames = ['Normal','Anomaly']\n",
    "plt.title('RF Confusion Matrix - Test Data')\n",
    "plt.ylabel('True label')\n",
    "plt.xlabel('Predicted label')\n",
    "tick_marks = np.arange(len(classNames))\n",
    "plt.xticks(tick_marks, classNames, rotation=45)\n",
    "plt.yticks(tick_marks, classNames)\n",
    "s = [['TN','FP'], ['FN', 'TP']]\n",
    " \n",
    "for i in range(2):\n",
    "    for j in range(2):\n",
    "        plt.text(j,i, str(s[i][j])+\" = \"+str(cm[i][j]))\n",
    "plt.show()"
   ]
  },
  {
   "cell_type": "code",
   "execution_count": 16,
   "metadata": {},
   "outputs": [
    {
     "name": "stdout",
     "output_type": "stream",
     "text": [
      "Detection Rate w.r.t anomaly class:  49.664429530201346\n",
      "False positives rate w.r.t anomaly class:  0.0\n"
     ]
    }
   ],
   "source": [
    "#Get True Positive, True Negative, False Positive and False Negative Individually\n",
    "TN = cm[0][0]\n",
    "FN = cm[1][0]\n",
    "TP = cm[1][1]\n",
    "FP = cm[0][1]\n",
    "#Calculate Detection Rate and False Alarm Rate\n",
    "print(\"Detection Rate w.r.t anomaly class: \", (TP/(TP+FN)*100))\n",
    "print(\"False positives rate w.r.t anomaly class: \", (FP/(FP+TN))*100)"
   ]
  },
  {
   "cell_type": "code",
   "execution_count": 17,
   "metadata": {},
   "outputs": [
    {
     "name": "stdout",
     "output_type": "stream",
     "text": [
      "              precision    recall  f1-score   support\n",
      "\n",
      "           0       0.67      1.00      0.80       149\n",
      "           1       1.00      0.50      0.66       149\n",
      "\n",
      "   micro avg       0.75      0.75      0.75       298\n",
      "   macro avg       0.83      0.75      0.73       298\n",
      "weighted avg       0.83      0.75      0.73       298\n",
      "\n"
     ]
    }
   ],
   "source": [
    "#Classification report\n",
    "from sklearn.metrics import classification_report\n",
    "print(classification_report(y_test, y_pred))"
   ]
  }
 ],
 "metadata": {
  "kernelspec": {
   "display_name": "Python 3",
   "language": "python",
   "name": "python3"
  },
  "language_info": {
   "codemirror_mode": {
    "name": "ipython",
    "version": 3
   },
   "file_extension": ".py",
   "mimetype": "text/x-python",
   "name": "python",
   "nbconvert_exporter": "python",
   "pygments_lexer": "ipython3",
   "version": "3.6.5"
  }
 },
 "nbformat": 4,
 "nbformat_minor": 2
}
